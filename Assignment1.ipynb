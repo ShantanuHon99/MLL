{
 "cells": [
  {
   "cell_type": "code",
   "execution_count": 3,
   "id": "cb7a8f3d-6c71-4501-b4a5-e96fadfde7a0",
   "metadata": {},
   "outputs": [
    {
     "data": {
      "text/html": [
       "<div>\n",
       "<style scoped>\n",
       "    .dataframe tbody tr th:only-of-type {\n",
       "        vertical-align: middle;\n",
       "    }\n",
       "\n",
       "    .dataframe tbody tr th {\n",
       "        vertical-align: top;\n",
       "    }\n",
       "\n",
       "    .dataframe thead th {\n",
       "        text-align: right;\n",
       "    }\n",
       "</style>\n",
       "<table border=\"1\" class=\"dataframe\">\n",
       "  <thead>\n",
       "    <tr style=\"text-align: right;\">\n",
       "      <th></th>\n",
       "      <th>Year</th>\n",
       "      <th>Movie</th>\n",
       "      <th>Bond</th>\n",
       "      <th>Director</th>\n",
       "      <th>Composer</th>\n",
       "      <th>Writer</th>\n",
       "      <th>Cinematographer</th>\n",
       "      <th>Depicted_Film_Loc</th>\n",
       "      <th>Shooting_Loc</th>\n",
       "      <th>Bond_Car_MFG</th>\n",
       "      <th>...</th>\n",
       "      <th>Film_Length</th>\n",
       "      <th>Avg_User_IMDB</th>\n",
       "      <th>Avg_User_Rtn_Tom</th>\n",
       "      <th>Conquests</th>\n",
       "      <th>Martinis</th>\n",
       "      <th>BJB</th>\n",
       "      <th>Kills_Bond</th>\n",
       "      <th>Kills_Others</th>\n",
       "      <th>Top_100</th>\n",
       "      <th>Video_Game</th>\n",
       "    </tr>\n",
       "  </thead>\n",
       "  <tbody>\n",
       "    <tr>\n",
       "      <th>0</th>\n",
       "      <td>1962</td>\n",
       "      <td>Dr. No</td>\n",
       "      <td>Sean Connery</td>\n",
       "      <td>Terence Young</td>\n",
       "      <td>Monty Norman</td>\n",
       "      <td>Richard Maibaum, Johanna Harwood &amp; Berkely Mather</td>\n",
       "      <td>Ted Moore</td>\n",
       "      <td>Great Britain, Jamaic</td>\n",
       "      <td>England, Jamaica</td>\n",
       "      <td>Sunbeam</td>\n",
       "      <td>...</td>\n",
       "      <td>110</td>\n",
       "      <td>7.3</td>\n",
       "      <td>7.7</td>\n",
       "      <td>3</td>\n",
       "      <td>2</td>\n",
       "      <td>1</td>\n",
       "      <td>4</td>\n",
       "      <td>8</td>\n",
       "      <td>0</td>\n",
       "      <td>0</td>\n",
       "    </tr>\n",
       "    <tr>\n",
       "      <th>1</th>\n",
       "      <td>1963</td>\n",
       "      <td>From Russia with Love</td>\n",
       "      <td>Sean Connery</td>\n",
       "      <td>Terence Young</td>\n",
       "      <td>John Barry</td>\n",
       "      <td>Richard Maibaum &amp; Johanna Harwood</td>\n",
       "      <td>Ted Moore</td>\n",
       "      <td>United Kingdom, Great Britain, Turkey, Croatia...</td>\n",
       "      <td>England, Scotland, Italy, Switzerland, Turkey</td>\n",
       "      <td>Bently</td>\n",
       "      <td>...</td>\n",
       "      <td>115</td>\n",
       "      <td>7.5</td>\n",
       "      <td>8.0</td>\n",
       "      <td>4</td>\n",
       "      <td>0</td>\n",
       "      <td>0</td>\n",
       "      <td>11</td>\n",
       "      <td>16</td>\n",
       "      <td>0</td>\n",
       "      <td>1</td>\n",
       "    </tr>\n",
       "    <tr>\n",
       "      <th>2</th>\n",
       "      <td>1964</td>\n",
       "      <td>Goldfinger</td>\n",
       "      <td>Sean Connery</td>\n",
       "      <td>Guy Hamilton</td>\n",
       "      <td>John Barry</td>\n",
       "      <td>Richard Maibaum &amp; Paul Dehn</td>\n",
       "      <td>Ted Moore</td>\n",
       "      <td>United States, Great Britain, Switzerland</td>\n",
       "      <td>England, Switzerland, United States</td>\n",
       "      <td>Aston Martin</td>\n",
       "      <td>...</td>\n",
       "      <td>110</td>\n",
       "      <td>7.8</td>\n",
       "      <td>8.4</td>\n",
       "      <td>2</td>\n",
       "      <td>1</td>\n",
       "      <td>2</td>\n",
       "      <td>9</td>\n",
       "      <td>68</td>\n",
       "      <td>1</td>\n",
       "      <td>1</td>\n",
       "    </tr>\n",
       "    <tr>\n",
       "      <th>3</th>\n",
       "      <td>1965</td>\n",
       "      <td>Thunderball</td>\n",
       "      <td>Sean Connery</td>\n",
       "      <td>Terence Young</td>\n",
       "      <td>John Barry</td>\n",
       "      <td>Richard Maibaum &amp; John Hopkins</td>\n",
       "      <td>Ted Moore</td>\n",
       "      <td>France, Great Britain, Bahamas, United States</td>\n",
       "      <td>England, France, Bahamas, United States</td>\n",
       "      <td>Aston Martin</td>\n",
       "      <td>...</td>\n",
       "      <td>130</td>\n",
       "      <td>7.0</td>\n",
       "      <td>6.8</td>\n",
       "      <td>3</td>\n",
       "      <td>0</td>\n",
       "      <td>0</td>\n",
       "      <td>20</td>\n",
       "      <td>90</td>\n",
       "      <td>1</td>\n",
       "      <td>0</td>\n",
       "    </tr>\n",
       "    <tr>\n",
       "      <th>4</th>\n",
       "      <td>1967</td>\n",
       "      <td>You Only Live Twice</td>\n",
       "      <td>Sean Connery</td>\n",
       "      <td>Lewis Gilbert</td>\n",
       "      <td>John Barry</td>\n",
       "      <td>Roald Dahl</td>\n",
       "      <td>Freddie Young</td>\n",
       "      <td>United States, Russia, Kazakhstan, Norway, Japan</td>\n",
       "      <td>Japan, Spain, Norway</td>\n",
       "      <td>Toyota</td>\n",
       "      <td>...</td>\n",
       "      <td>117</td>\n",
       "      <td>6.9</td>\n",
       "      <td>6.3</td>\n",
       "      <td>3</td>\n",
       "      <td>1</td>\n",
       "      <td>0</td>\n",
       "      <td>21</td>\n",
       "      <td>175</td>\n",
       "      <td>1</td>\n",
       "      <td>0</td>\n",
       "    </tr>\n",
       "  </tbody>\n",
       "</table>\n",
       "<p>5 rows × 27 columns</p>\n",
       "</div>"
      ],
      "text/plain": [
       "   Year                  Movie          Bond       Director      Composer  \\\n",
       "0  1962                 Dr. No  Sean Connery  Terence Young  Monty Norman   \n",
       "1  1963  From Russia with Love  Sean Connery  Terence Young    John Barry   \n",
       "2  1964             Goldfinger  Sean Connery   Guy Hamilton    John Barry   \n",
       "3  1965            Thunderball  Sean Connery  Terence Young    John Barry   \n",
       "4  1967    You Only Live Twice  Sean Connery  Lewis Gilbert    John Barry   \n",
       "\n",
       "                                              Writer Cinematographer  \\\n",
       "0  Richard Maibaum, Johanna Harwood & Berkely Mather       Ted Moore   \n",
       "1                  Richard Maibaum & Johanna Harwood       Ted Moore   \n",
       "2                        Richard Maibaum & Paul Dehn       Ted Moore   \n",
       "3                     Richard Maibaum & John Hopkins       Ted Moore   \n",
       "4                                         Roald Dahl   Freddie Young   \n",
       "\n",
       "                                   Depicted_Film_Loc  \\\n",
       "0                              Great Britain, Jamaic   \n",
       "1  United Kingdom, Great Britain, Turkey, Croatia...   \n",
       "2          United States, Great Britain, Switzerland   \n",
       "3      France, Great Britain, Bahamas, United States   \n",
       "4   United States, Russia, Kazakhstan, Norway, Japan   \n",
       "\n",
       "                                    Shooting_Loc  Bond_Car_MFG  ...  \\\n",
       "0                               England, Jamaica       Sunbeam  ...   \n",
       "1  England, Scotland, Italy, Switzerland, Turkey        Bently  ...   \n",
       "2            England, Switzerland, United States  Aston Martin  ...   \n",
       "3        England, France, Bahamas, United States  Aston Martin  ...   \n",
       "4                           Japan, Spain, Norway        Toyota  ...   \n",
       "\n",
       "  Film_Length  Avg_User_IMDB  Avg_User_Rtn_Tom  Conquests  Martinis  BJB  \\\n",
       "0         110            7.3               7.7          3         2    1   \n",
       "1         115            7.5               8.0          4         0    0   \n",
       "2         110            7.8               8.4          2         1    2   \n",
       "3         130            7.0               6.8          3         0    0   \n",
       "4         117            6.9               6.3          3         1    0   \n",
       "\n",
       "   Kills_Bond  Kills_Others  Top_100  Video_Game  \n",
       "0           4             8        0           0  \n",
       "1          11            16        0           1  \n",
       "2           9            68        1           1  \n",
       "3          20            90        1           0  \n",
       "4          21           175        1           0  \n",
       "\n",
       "[5 rows x 27 columns]"
      ]
     },
     "execution_count": 3,
     "metadata": {},
     "output_type": "execute_result"
    }
   ],
   "source": [
    "import pandas as pd\n",
    "james_bond_data = pd.read_csv(\"jamesbond.csv\").convert_dtypes()\n",
    "james_bond_data.head()"
   ]
  },
  {
   "cell_type": "code",
   "execution_count": 11,
   "id": "8add1f27-f147-4438-99aa-c4126b6c42c1",
   "metadata": {},
   "outputs": [
    {
     "data": {
      "text/plain": [
       "Index(['Year', 'movie_title', 'bond_actor', 'Director', 'Composer', 'Writer',\n",
       "       'Cinematographer', 'Depicted_Film_Loc', 'Shooting_Loc',\n",
       "       'car_manufacturer', 'Bond_Girl_Nat', 'income_usa', 'US_Adj',\n",
       "       'income_world', 'World_Adj', 'movie_budget', 'Budget_Adj',\n",
       "       'film_length', 'imdb', 'rotten_tomatoes', 'Conquests',\n",
       "       'martinis_consumed', 'BJB', 'bond_kills', 'Kills_Others', 'Top_100',\n",
       "       'Video_Game'],\n",
       "      dtype='object')"
      ]
     },
     "execution_count": 11,
     "metadata": {},
     "output_type": "execute_result"
    }
   ],
   "source": [
    "new_column_names = {\n",
    "\"Release\": \"release_date\",\n",
    "\"Movie\": \"movie_title\",\n",
    "\"Bond\": \"bond_actor\",\n",
    "\"Bond_Car_MFG\": \"car_manufacturer\",\n",
    "\"US_Gross\": \"income_usa\",\n",
    "\"World_Gross\": \"income_world\",\n",
    "\"Budget\": \"movie_budget\",\n",
    "\"Film_Length\": \"film_length\",\n",
    "\"Avg_User_IMDB\": \"imdb\",\n",
    "\"Avg_User_Rtn_Tom\": \"rotten_tomatoes\",\n",
    "\"Martinis\": \"martinis_consumed\",\n",
    "\"Kills_Bond\": \"bond_kills\",\n",
    "}\n",
    "\n",
    "data = james_bond_data.rename(columns=new_column_names)\n",
    "data.columns"
   ]
  },
  {
   "cell_type": "code",
   "execution_count": 5,
   "id": "a9b8eee6-77e5-4b74-98a8-a53dfd3412ff",
   "metadata": {},
   "outputs": [
    {
     "name": "stdout",
     "output_type": "stream",
     "text": [
      "<class 'pandas.core.frame.DataFrame'>\n",
      "RangeIndex: 24 entries, 0 to 23\n",
      "Data columns (total 27 columns):\n",
      " #   Column             Non-Null Count  Dtype  \n",
      "---  ------             --------------  -----  \n",
      " 0   Year               24 non-null     Int64  \n",
      " 1   movie_title        24 non-null     string \n",
      " 2   bond_actor         24 non-null     string \n",
      " 3   Director           24 non-null     string \n",
      " 4   Composer           24 non-null     string \n",
      " 5   Writer             24 non-null     string \n",
      " 6   Cinematographer    24 non-null     string \n",
      " 7   Depicted_Film_Loc  24 non-null     string \n",
      " 8   Shooting_Loc       24 non-null     string \n",
      " 9   car_manufacturer   24 non-null     string \n",
      " 10  Bond_Girl_Nat      24 non-null     string \n",
      " 11  income_usa         24 non-null     Int64  \n",
      " 12  US_Adj             24 non-null     Int64  \n",
      " 13  income_world       24 non-null     Int64  \n",
      " 14  World_Adj          24 non-null     Int64  \n",
      " 15  Budget             24 non-null     Int64  \n",
      " 16  Budget_Adj         24 non-null     Int64  \n",
      " 17  film_length        24 non-null     Int64  \n",
      " 18  imdb               24 non-null     Float64\n",
      " 19  rotten_tomatoes    24 non-null     Float64\n",
      " 20  Conquests          24 non-null     Int64  \n",
      " 21  martinis_consumed  24 non-null     Int64  \n",
      " 22  BJB                24 non-null     Int64  \n",
      " 23  bond_kills         24 non-null     Int64  \n",
      " 24  Kills_Others       24 non-null     Int64  \n",
      " 25  Top_100            24 non-null     Int64  \n",
      " 26  Video_Game         24 non-null     Int64  \n",
      "dtypes: Float64(2), Int64(15), string(10)\n",
      "memory usage: 5.6 KB\n"
     ]
    }
   ],
   "source": [
    "data.info()"
   ]
  },
  {
   "cell_type": "code",
   "execution_count": 6,
   "id": "2757f8c9-f1a0-4d1e-a3e6-cea898233162",
   "metadata": {},
   "outputs": [
    {
     "data": {
      "text/html": [
       "<div>\n",
       "<style scoped>\n",
       "    .dataframe tbody tr th:only-of-type {\n",
       "        vertical-align: middle;\n",
       "    }\n",
       "\n",
       "    .dataframe tbody tr th {\n",
       "        vertical-align: top;\n",
       "    }\n",
       "\n",
       "    .dataframe thead th {\n",
       "        text-align: right;\n",
       "    }\n",
       "</style>\n",
       "<table border=\"1\" class=\"dataframe\">\n",
       "  <thead>\n",
       "    <tr style=\"text-align: right;\">\n",
       "      <th></th>\n",
       "      <th>Year</th>\n",
       "      <th>movie_title</th>\n",
       "      <th>bond_actor</th>\n",
       "      <th>Director</th>\n",
       "      <th>Composer</th>\n",
       "      <th>Writer</th>\n",
       "      <th>Cinematographer</th>\n",
       "      <th>Depicted_Film_Loc</th>\n",
       "      <th>Shooting_Loc</th>\n",
       "      <th>car_manufacturer</th>\n",
       "      <th>...</th>\n",
       "      <th>film_length</th>\n",
       "      <th>imdb</th>\n",
       "      <th>rotten_tomatoes</th>\n",
       "      <th>Conquests</th>\n",
       "      <th>martinis_consumed</th>\n",
       "      <th>BJB</th>\n",
       "      <th>bond_kills</th>\n",
       "      <th>Kills_Others</th>\n",
       "      <th>Top_100</th>\n",
       "      <th>Video_Game</th>\n",
       "    </tr>\n",
       "  </thead>\n",
       "  <tbody>\n",
       "  </tbody>\n",
       "</table>\n",
       "<p>0 rows × 27 columns</p>\n",
       "</div>"
      ],
      "text/plain": [
       "Empty DataFrame\n",
       "Columns: [Year, movie_title, bond_actor, Director, Composer, Writer, Cinematographer, Depicted_Film_Loc, Shooting_Loc, car_manufacturer, Bond_Girl_Nat, income_usa, US_Adj, income_world, World_Adj, Budget, Budget_Adj, film_length, imdb, rotten_tomatoes, Conquests, martinis_consumed, BJB, bond_kills, Kills_Others, Top_100, Video_Game]\n",
       "Index: []\n",
       "\n",
       "[0 rows x 27 columns]"
      ]
     },
     "execution_count": 6,
     "metadata": {},
     "output_type": "execute_result"
    }
   ],
   "source": [
    "data.loc[data.isna().any(axis=\"columns\")]"
   ]
  },
  {
   "cell_type": "code",
   "execution_count": 8,
   "id": "28d56adb-0392-494f-97f2-7285f76c4b13",
   "metadata": {},
   "outputs": [],
   "source": [
    "data = james_bond_data.rename(columns=new_column_names).combine_first(pd.DataFrame({\"imdb\": {10: 7.1}, \"rotten_tomatoes\": {10: 6.8}}))"
   ]
  },
  {
   "cell_type": "code",
   "execution_count": 9,
   "id": "c9728ab8-f8ed-427d-b245-afe55bebf665",
   "metadata": {},
   "outputs": [
    {
     "data": {
      "text/html": [
       "<div>\n",
       "<style scoped>\n",
       "    .dataframe tbody tr th:only-of-type {\n",
       "        vertical-align: middle;\n",
       "    }\n",
       "\n",
       "    .dataframe tbody tr th {\n",
       "        vertical-align: top;\n",
       "    }\n",
       "\n",
       "    .dataframe thead th {\n",
       "        text-align: right;\n",
       "    }\n",
       "</style>\n",
       "<table border=\"1\" class=\"dataframe\">\n",
       "  <thead>\n",
       "    <tr style=\"text-align: right;\">\n",
       "      <th></th>\n",
       "      <th>imdb</th>\n",
       "      <th>rotten_tomatoes</th>\n",
       "    </tr>\n",
       "  </thead>\n",
       "  <tbody>\n",
       "    <tr>\n",
       "      <th>10</th>\n",
       "      <td>7.1</td>\n",
       "      <td>6.8</td>\n",
       "    </tr>\n",
       "  </tbody>\n",
       "</table>\n",
       "</div>"
      ],
      "text/plain": [
       "    imdb  rotten_tomatoes\n",
       "10   7.1              6.8"
      ]
     },
     "execution_count": 9,
     "metadata": {},
     "output_type": "execute_result"
    }
   ],
   "source": [
    "pd.DataFrame({\"imdb\": {10: 7.1}, \"rotten_tomatoes\": {10: 6.8}})"
   ]
  },
  {
   "cell_type": "code",
   "execution_count": 12,
   "id": "35bb5055-7c0b-45af-b9b1-e2d0f7e62c2c",
   "metadata": {},
   "outputs": [
    {
     "data": {
      "text/html": [
       "<div>\n",
       "<style scoped>\n",
       "    .dataframe tbody tr th:only-of-type {\n",
       "        vertical-align: middle;\n",
       "    }\n",
       "\n",
       "    .dataframe tbody tr th {\n",
       "        vertical-align: top;\n",
       "    }\n",
       "\n",
       "    .dataframe thead th {\n",
       "        text-align: right;\n",
       "    }\n",
       "</style>\n",
       "<table border=\"1\" class=\"dataframe\">\n",
       "  <thead>\n",
       "    <tr style=\"text-align: right;\">\n",
       "      <th></th>\n",
       "      <th>income_usa</th>\n",
       "      <th>income_world</th>\n",
       "      <th>movie_budget</th>\n",
       "      <th>film_length</th>\n",
       "    </tr>\n",
       "  </thead>\n",
       "  <tbody>\n",
       "    <tr>\n",
       "      <th>0</th>\n",
       "      <td>16067035</td>\n",
       "      <td>59567035</td>\n",
       "      <td>1000</td>\n",
       "      <td>110</td>\n",
       "    </tr>\n",
       "    <tr>\n",
       "      <th>1</th>\n",
       "      <td>24800000</td>\n",
       "      <td>78900000</td>\n",
       "      <td>2000</td>\n",
       "      <td>115</td>\n",
       "    </tr>\n",
       "    <tr>\n",
       "      <th>2</th>\n",
       "      <td>51100000</td>\n",
       "      <td>124900000</td>\n",
       "      <td>3000</td>\n",
       "      <td>110</td>\n",
       "    </tr>\n",
       "    <tr>\n",
       "      <th>3</th>\n",
       "      <td>63600000</td>\n",
       "      <td>141200000</td>\n",
       "      <td>9000</td>\n",
       "      <td>130</td>\n",
       "    </tr>\n",
       "    <tr>\n",
       "      <th>4</th>\n",
       "      <td>43100000</td>\n",
       "      <td>111600000</td>\n",
       "      <td>9500</td>\n",
       "      <td>117</td>\n",
       "    </tr>\n",
       "  </tbody>\n",
       "</table>\n",
       "</div>"
      ],
      "text/plain": [
       "   income_usa  income_world  movie_budget  film_length\n",
       "0    16067035      59567035          1000          110\n",
       "1    24800000      78900000          2000          115\n",
       "2    51100000     124900000          3000          110\n",
       "3    63600000     141200000          9000          130\n",
       "4    43100000     111600000          9500          117"
      ]
     },
     "execution_count": 12,
     "metadata": {},
     "output_type": "execute_result"
    }
   ],
   "source": [
    "data[[\"income_usa\", \"income_world\", \"movie_budget\", \"film_length\"]].head()"
   ]
  },
  {
   "cell_type": "code",
   "execution_count": 14,
   "id": "83767f31-425f-4c56-b72c-dcf37ab3d113",
   "metadata": {},
   "outputs": [
    {
     "name": "stdout",
     "output_type": "stream",
     "text": [
      "<class 'pandas.core.frame.DataFrame'>\n",
      "Index: 24 entries, 0 to 23\n",
      "Data columns (total 27 columns):\n",
      " #   Column             Non-Null Count  Dtype  \n",
      "---  ------             --------------  -----  \n",
      " 0   BJB                24 non-null     Int64  \n",
      " 1   Bond_Girl_Nat      24 non-null     string \n",
      " 2   Budget_Adj         24 non-null     Int64  \n",
      " 3   Cinematographer    24 non-null     string \n",
      " 4   Composer           24 non-null     string \n",
      " 5   Conquests          24 non-null     Int64  \n",
      " 6   Depicted_Film_Loc  24 non-null     string \n",
      " 7   Director           24 non-null     string \n",
      " 8   Kills_Others       24 non-null     Int64  \n",
      " 9   Shooting_Loc       24 non-null     string \n",
      " 10  Top_100            24 non-null     Int64  \n",
      " 11  US_Adj             24 non-null     Int64  \n",
      " 12  Video_Game         24 non-null     Int64  \n",
      " 13  World_Adj          24 non-null     Int64  \n",
      " 14  Writer             24 non-null     string \n",
      " 15  Year               24 non-null     Int64  \n",
      " 16  bond_actor         24 non-null     string \n",
      " 17  bond_kills         24 non-null     Int64  \n",
      " 18  car_manufacturer   24 non-null     string \n",
      " 19  film_length        24 non-null     Int64  \n",
      " 20  imdb               24 non-null     Float64\n",
      " 21  income_usa         24 non-null     Float64\n",
      " 22  income_world       24 non-null     Int64  \n",
      " 23  martinis_consumed  24 non-null     Int64  \n",
      " 24  movie_budget       24 non-null     Int64  \n",
      " 25  movie_title        24 non-null     string \n",
      " 26  rotten_tomatoes    24 non-null     Float64\n",
      "dtypes: Float64(3), Int64(14), string(10)\n",
      "memory usage: 5.6 KB\n"
     ]
    }
   ],
   "source": [
    "In [10]: data = (\n",
    "        james_bond_data.rename(columns=new_column_names)\n",
    "        .combine_first(\n",
    "            pd.DataFrame({\"imdb\": {10: 7.1}, \"rotten_tomatoes\": {10: 6.8}})\n",
    "        )\n",
    "        .assign(\n",
    "            income_usa=lambda data: (\n",
    "                data[\"income_usa\"]\n",
    "                .replace(\"[$,]\", \"\", regex=True)\n",
    "                .astype(\"Float64\")\n",
    "            ),\n",
    "        )\n",
    "    )\n",
    "data.info()"
   ]
  },
  {
   "cell_type": "code",
   "execution_count": 15,
   "id": "0d528ced-6ab1-4b4f-ba41-b2b8952a4d34",
   "metadata": {},
   "outputs": [
    {
     "data": {
      "text/plain": [
       "bond_actor\n",
       "Roger Moore       7\n",
       "Sean Connery      6\n",
       "Pierce Brosnan    4\n",
       "Daniel Craig      4\n",
       "Timothy Dalton    2\n",
       "George Lazenby    1\n",
       "Name: count, dtype: Int64"
      ]
     },
     "execution_count": 15,
     "metadata": {},
     "output_type": "execute_result"
    }
   ],
   "source": [
    "data[\"bond_actor\"].value_counts()\n"
   ]
  },
  {
   "cell_type": "code",
   "execution_count": 16,
   "id": "8f1477eb-0ace-4f78-9eb6-4bfeeb5d9946",
   "metadata": {},
   "outputs": [
    {
     "data": {
      "text/html": [
       "<div>\n",
       "<style scoped>\n",
       "    .dataframe tbody tr th:only-of-type {\n",
       "        vertical-align: middle;\n",
       "    }\n",
       "\n",
       "    .dataframe tbody tr th {\n",
       "        vertical-align: top;\n",
       "    }\n",
       "\n",
       "    .dataframe thead th {\n",
       "        text-align: right;\n",
       "    }\n",
       "</style>\n",
       "<table border=\"1\" class=\"dataframe\">\n",
       "  <thead>\n",
       "    <tr style=\"text-align: right;\">\n",
       "      <th></th>\n",
       "      <th>film_length</th>\n",
       "      <th>martinis_consumed</th>\n",
       "    </tr>\n",
       "  </thead>\n",
       "  <tbody>\n",
       "    <tr>\n",
       "      <th>count</th>\n",
       "      <td>24.0</td>\n",
       "      <td>24.0</td>\n",
       "    </tr>\n",
       "    <tr>\n",
       "      <th>mean</th>\n",
       "      <td>126.833333</td>\n",
       "      <td>1.083333</td>\n",
       "    </tr>\n",
       "    <tr>\n",
       "      <th>std</th>\n",
       "      <td>10.961064</td>\n",
       "      <td>1.316011</td>\n",
       "    </tr>\n",
       "    <tr>\n",
       "      <th>min</th>\n",
       "      <td>106.0</td>\n",
       "      <td>0.0</td>\n",
       "    </tr>\n",
       "    <tr>\n",
       "      <th>25%</th>\n",
       "      <td>119.75</td>\n",
       "      <td>0.0</td>\n",
       "    </tr>\n",
       "    <tr>\n",
       "      <th>50%</th>\n",
       "      <td>127.5</td>\n",
       "      <td>1.0</td>\n",
       "    </tr>\n",
       "    <tr>\n",
       "      <th>75%</th>\n",
       "      <td>131.5</td>\n",
       "      <td>1.0</td>\n",
       "    </tr>\n",
       "    <tr>\n",
       "      <th>max</th>\n",
       "      <td>148.0</td>\n",
       "      <td>6.0</td>\n",
       "    </tr>\n",
       "  </tbody>\n",
       "</table>\n",
       "</div>"
      ],
      "text/plain": [
       "       film_length  martinis_consumed\n",
       "count         24.0               24.0\n",
       "mean    126.833333           1.083333\n",
       "std      10.961064           1.316011\n",
       "min          106.0                0.0\n",
       "25%         119.75                0.0\n",
       "50%          127.5                1.0\n",
       "75%          131.5                1.0\n",
       "max          148.0                6.0"
      ]
     },
     "execution_count": 16,
     "metadata": {},
     "output_type": "execute_result"
    }
   ],
   "source": [
    "data[[\"film_length\", \"martinis_consumed\"]].describe()"
   ]
  },
  {
   "cell_type": "code",
   "execution_count": 17,
   "id": "b42d4990-f41f-4890-aebe-c9f9a13d6d1f",
   "metadata": {},
   "outputs": [
    {
     "data": {
      "text/html": [
       "<div>\n",
       "<style scoped>\n",
       "    .dataframe tbody tr th:only-of-type {\n",
       "        vertical-align: middle;\n",
       "    }\n",
       "\n",
       "    .dataframe tbody tr th {\n",
       "        vertical-align: top;\n",
       "    }\n",
       "\n",
       "    .dataframe thead th {\n",
       "        text-align: right;\n",
       "    }\n",
       "</style>\n",
       "<table border=\"1\" class=\"dataframe\">\n",
       "  <thead>\n",
       "    <tr style=\"text-align: right;\">\n",
       "      <th></th>\n",
       "      <th>BJB</th>\n",
       "      <th>Bond_Girl_Nat</th>\n",
       "      <th>Budget_Adj</th>\n",
       "      <th>Cinematographer</th>\n",
       "      <th>Composer</th>\n",
       "      <th>Conquests</th>\n",
       "      <th>Depicted_Film_Loc</th>\n",
       "      <th>Director</th>\n",
       "      <th>Kills_Others</th>\n",
       "      <th>Shooting_Loc</th>\n",
       "      <th>...</th>\n",
       "      <th>bond_kills</th>\n",
       "      <th>car_manufacturer</th>\n",
       "      <th>film_length</th>\n",
       "      <th>imdb</th>\n",
       "      <th>income_usa</th>\n",
       "      <th>income_world</th>\n",
       "      <th>martinis_consumed</th>\n",
       "      <th>movie_budget</th>\n",
       "      <th>movie_title</th>\n",
       "      <th>rotten_tomatoes</th>\n",
       "    </tr>\n",
       "  </thead>\n",
       "  <tbody>\n",
       "  </tbody>\n",
       "</table>\n",
       "<p>0 rows × 27 columns</p>\n",
       "</div>"
      ],
      "text/plain": [
       "Empty DataFrame\n",
       "Columns: [BJB, Bond_Girl_Nat, Budget_Adj, Cinematographer, Composer, Conquests, Depicted_Film_Loc, Director, Kills_Others, Shooting_Loc, Top_100, US_Adj, Video_Game, World_Adj, Writer, Year, bond_actor, bond_kills, car_manufacturer, film_length, imdb, income_usa, income_world, martinis_consumed, movie_budget, movie_title, rotten_tomatoes]\n",
       "Index: []\n",
       "\n",
       "[0 rows x 27 columns]"
      ]
     },
     "execution_count": 17,
     "metadata": {},
     "output_type": "execute_result"
    }
   ],
   "source": [
    "data.loc[data.duplicated(keep=False)]"
   ]
  },
  {
   "cell_type": "code",
   "execution_count": 18,
   "id": "cc1455c9-4bbf-4531-8eae-ffd8e7417341",
   "metadata": {},
   "outputs": [],
   "source": [
    "data.to_csv(\"james_bond_data_cleansed.csv\", index=False)"
   ]
  },
  {
   "cell_type": "code",
   "execution_count": 22,
   "id": "d426bd34-3c73-42c4-a3d7-ff8dd0e1d8c8",
   "metadata": {},
   "outputs": [
    {
     "name": "stderr",
     "output_type": "stream",
     "text": [
      "C:\\Users\\Admin\\AppData\\Local\\Temp\\ipykernel_11500\\2875793536.py:10: UserWarning: FigureCanvasAgg is non-interactive, and thus cannot be shown\n",
      "  fig.show()\n"
     ]
    },
    {
     "data": {
      "image/png": "[encoded data removed]",
      "text/plain": [
       "<Figure size 640x480 with 1 Axes>"
      ]
     },
     "metadata": {},
     "output_type": "display_data"
    }
   ],
   "source": [
    "import pandas as pd\n",
    "import matplotlib.pyplot as plt\n",
    "   \n",
    "data = pd.read_csv(\"james_bond_data_cleansed.csv\").convert_dtypes()\n",
    "fig, ax = plt.subplots()\n",
    "ax.scatter(data[\"imdb\"], data[\"rotten_tomatoes\"])\n",
    "ax.set_title(\"Scatter Plot of Ratings\")\n",
    "ax.set_xlabel(\"Average IMDb Rating\")\n",
    "ax.set_ylabel(\"Average Rotten Tomatoes Rating\")\n",
    "fig.show()"
   ]
  },
  {
   "cell_type": "code",
   "execution_count": 27,
   "id": "e16d7612-0983-4611-9353-4a963c23fc50",
   "metadata": {},
   "outputs": [
    {
     "name": "stderr",
     "output_type": "stream",
     "text": [
      "C:\\Users\\Admin\\AppData\\Local\\Temp\\ipykernel_11500\\1550937666.py:19: UserWarning: FigureCanvasAgg is non-interactive, and thus cannot be shown\n",
      "  fig.show()\n"
     ]
    },
    {
     "data": {
      "image/png": "[encoded data removed]",
      "text/plain": [
       "<Figure size 640x480 with 1 Axes>"
      ]
     },
     "metadata": {},
     "output_type": "display_data"
    }
   ],
   "source": [
    "from sklearn.linear_model import LinearRegression\n",
    "   \n",
    "x = data.loc[:, [\"imdb\"]]\n",
    "y = data.loc[:, \"rotten_tomatoes\"]\n",
    "model = LinearRegression()\n",
    "model.fit(x, y)\n",
    "   \n",
    "r_squared = f\"R-Squared: {model.score(x, y):.2f}\"\n",
    "best_fit = f\"y = {model.coef_[0]:.4f}x{model.intercept_:+.4f}\"\n",
    "y_pred = model.predict(x)\n",
    "fig, ax = plt.subplots()\n",
    "ax.scatter(x, y)\n",
    "ax.plot(x, y_pred, color=\"red\")\n",
    "ax.text(7.25, 5.5, r_squared, fontsize=10)\n",
    "ax.text(7.25, 7, best_fit, fontsize=10)\n",
    "ax.set_title(\"Scatter Plot of Ratings\")\n",
    "ax.set_xlabel(\"Average IMDb Rating\")\n",
    "ax.set_ylabel(\"Average Rotten Tomatoes Rating\")\n",
    "fig.show()"
   ]
  },
  {
   "cell_type": "code",
   "execution_count": 28,
   "id": "194bd21b-e84e-45c5-95b1-246a0502fc4b",
   "metadata": {},
   "outputs": [
    {
     "name": "stderr",
     "output_type": "stream",
     "text": [
      "C:\\Users\\Admin\\AppData\\Local\\Temp\\ipykernel_11500\\2340875588.py:9: UserWarning: FigureCanvasAgg is non-interactive, and thus cannot be shown\n",
      "  fig.show()\n"
     ]
    },
    {
     "data": {
      "image/png": "[encoded data removed]",
      "text/plain": [
       "<Figure size 640x480 with 1 Axes>"
      ]
     },
     "metadata": {},
     "output_type": "display_data"
    }
   ],
   "source": [
    "fig, ax = plt.subplots()\n",
    "length = data[\"film_length\"].value_counts(bins=7).sort_index()\n",
    "length.plot.bar(\n",
    "        ax=ax,\n",
    "        title=\"Film Length Distribution\",\n",
    "        xlabel=\"Time Range (mins)\",\n",
    "        ylabel=\"Count\",\n",
    "    )\n",
    "fig.show()"
   ]
  }
 ],
 "metadata": {
  "kernelspec": {
   "display_name": "Python 3 (ipykernel)",
   "language": "python",
   "name": "python3"
  },
  "language_info": {
   "codemirror_mode": {
    "name": "ipython",
    "version": 3
   },
   "file_extension": ".py",
   "mimetype": "text/x-python",
   "name": "python",
   "nbconvert_exporter": "python",
   "pygments_lexer": "ipython3",
   "version": "3.11.7"
  }
 },
 "nbformat": 4,
 "nbformat_minor": 5
}
